{
 "cells": [
  {
   "cell_type": "markdown",
   "metadata": {},
   "source": [
    "## Challenge 2: Sets\n",
    "\n",
    "There are a lot to learn about Python Sets and the information presented in the lesson is limited due to its length. To learn Python Sets in depth you are strongly encouraged to review the W3Schools tutorial on [Python Sets Examples and Methods](https://www.w3schools.com/python/python_sets.asp) before you work on this lab. Some difficult questions in this lab have their solutions in the W3Schools tutorial.\n",
    "\n",
    "#### First, import the Python `random` library."
   ]
  },
  {
   "cell_type": "code",
   "execution_count": 1,
   "metadata": {},
   "outputs": [],
   "source": [
    "import random"
   ]
  },
  {
   "cell_type": "markdown",
   "metadata": {},
   "source": [
    "#### In the cell below, create a list named `sample_list_1` with 80 random values. \n",
    "\n",
    "Requirements:\n",
    "\n",
    "* Each value is an integer falling between 0 and 100.\n",
    "* Each value in the list is unique.\n",
    "\n",
    "Print `sample_list_1` to review its values\n",
    "\n",
    "*Hint: use `random.sample` ([reference](https://docs.python.org/3/library/random.html#random.sample)).*"
   ]
  },
  {
   "cell_type": "code",
   "execution_count": 24,
   "metadata": {},
   "outputs": [
    {
     "name": "stdout",
     "output_type": "stream",
     "text": [
      "[56, 14, 18, 95, 0, 9, 74, 45, 13, 69, 65, 71, 3, 44, 53, 62, 30, 32, 76, 83, 94, 80, 41, 96, 22, 67, 4, 75, 11, 92, 64, 58, 90, 51, 37, 55, 98, 2, 85, 57, 38, 10, 19, 68, 17, 54, 59, 20, 86, 34, 12, 36, 70, 42, 39, 23, 29, 33, 8, 31, 84, 72, 50, 82, 97, 47, 66, 6, 91, 27, 63, 88, 26, 52, 46, 49, 7, 15, 40, 87] 80\n"
     ]
    }
   ],
   "source": [
    "# Your code here\n",
    "sample_list_1 = random.sample(list(range(100)),80)\n",
    "print(sample_list_1, len(sample_list_1))\n"
   ]
  },
  {
   "cell_type": "markdown",
   "metadata": {},
   "source": [
    "#### Convert `sample_list_1` to a set called `set1`. Print the length of the set. Is its length still 80?"
   ]
  },
  {
   "cell_type": "code",
   "execution_count": 25,
   "metadata": {},
   "outputs": [
    {
     "data": {
      "text/plain": [
       "80"
      ]
     },
     "execution_count": 25,
     "metadata": {},
     "output_type": "execute_result"
    }
   ],
   "source": [
    "# Your code here\n",
    "set1 = set(sample_list_1)\n",
    "len(set1)\n",
    "# The length is still the same"
   ]
  },
  {
   "cell_type": "markdown",
   "metadata": {},
   "source": [
    "#### Create another list named `sample_list_2` with 80 random values.\n",
    "\n",
    "Requirements:\n",
    "\n",
    "* Each value is an integer falling between 0 and 100.\n",
    "* The values in the list don't have to be unique.\n",
    "\n",
    "*Hint: Use a FOR loop.*"
   ]
  },
  {
   "cell_type": "code",
   "execution_count": 33,
   "metadata": {},
   "outputs": [
    {
     "name": "stdout",
     "output_type": "stream",
     "text": [
      "[63, 31, 70, 2, 92, 57, 28, 61, 49, 54, 62, 57, 30, 50, 27, 36, 70, 3, 69, 92, 86, 75, 74, 41, 18, 46, 74, 39, 78, 15, 95, 5, 3, 2, 10, 62, 40, 61, 10, 49, 86, 3, 98, 53, 21, 3, 15, 44, 10, 65, 87, 21, 5, 62, 89, 47, 20, 15, 9, 79, 37, 15, 95, 5, 49, 3, 3, 94, 82, 14, 45, 57, 4, 22, 30, 60, 26, 54, 22, 15]\n"
     ]
    }
   ],
   "source": [
    "# Your code here\n",
    "sample_list_2 = []\n",
    "for x in range(0,80):\n",
    "    num = random.randint(1,100)\n",
    "    sample_list_2.append(num)\n",
    "print(sample_list_2)"
   ]
  },
  {
   "cell_type": "markdown",
   "metadata": {},
   "source": [
    "#### Convert `sample_list_2` to a set called `set2`. Print the length of the set. Is its length still 80?"
   ]
  },
  {
   "cell_type": "code",
   "execution_count": 34,
   "metadata": {},
   "outputs": [
    {
     "name": "stdout",
     "output_type": "stream",
     "text": [
      "50\n"
     ]
    }
   ],
   "source": [
    "# Your code here\n",
    "set2 = set(sample_list_2)\n",
    "print(len(set2))\n",
    "# The lenght of the set2 is not 80, because there are elements in sample_list_2 that repeat."
   ]
  },
  {
   "cell_type": "markdown",
   "metadata": {},
   "source": [
    "#### Identify the elements present in `set1` but not in `set2`. Assign the elements to a new set named `set3`."
   ]
  },
  {
   "cell_type": "code",
   "execution_count": 42,
   "metadata": {},
   "outputs": [
    {
     "name": "stdout",
     "output_type": "stream",
     "text": [
      "{0, 6, 7, 8, 11, 12, 13, 17, 19, 23, 29, 32, 33, 34, 38, 42, 51, 52, 55, 56, 58, 59, 64, 66, 67, 68, 71, 72, 76, 80, 83, 84, 85, 88, 90, 91, 96, 97}\n"
     ]
    }
   ],
   "source": [
    "# Your code here\n",
    "set3 = set1 - set2\n",
    "print(set3)"
   ]
  },
  {
   "cell_type": "markdown",
   "metadata": {},
   "source": [
    "#### Identify the elements present in `set2` but not in `set1`. Assign the elements to a new set named `set4`."
   ]
  },
  {
   "cell_type": "code",
   "execution_count": 36,
   "metadata": {},
   "outputs": [
    {
     "name": "stdout",
     "output_type": "stream",
     "text": [
      "{5, 60, 78, 79, 21, 89, 28, 61}\n"
     ]
    }
   ],
   "source": [
    "# Your code here\n",
    "set4 = set2 - set1\n",
    "print(set4)"
   ]
  },
  {
   "cell_type": "markdown",
   "metadata": {},
   "source": [
    "#### Now Identify the elements shared between `set1` and `set2`. Assign the elements to a new set named `set5`."
   ]
  },
  {
   "cell_type": "code",
   "execution_count": 38,
   "metadata": {},
   "outputs": [
    {
     "name": "stdout",
     "output_type": "stream",
     "text": [
      "{2, 3, 4, 9, 10, 14, 15, 18, 20, 22, 26, 27, 30, 31, 36, 37, 39, 40, 41, 44, 45, 46, 47, 49, 50, 53, 54, 57, 62, 63, 65, 69, 70, 74, 75, 82, 86, 87, 92, 94, 95, 98}\n"
     ]
    }
   ],
   "source": [
    "# Your code here\n",
    "set5 = set.intersection(set1, set2)\n",
    "print(set5)"
   ]
  },
  {
   "cell_type": "markdown",
   "metadata": {},
   "source": [
    "#### What is the relationship among the following values:\n",
    "\n",
    "* len(set1)\n",
    "* len(set2)\n",
    "* len(set3)\n",
    "* len(set4)\n",
    "* len(set5)\n",
    "\n",
    "Use a math formular to represent that relationship. Test your formular with Python code."
   ]
  },
  {
   "cell_type": "code",
   "execution_count": 49,
   "metadata": {},
   "outputs": [
    {
     "name": "stdout",
     "output_type": "stream",
     "text": [
      "80 50 38 8 42\n",
      "80\n"
     ]
    }
   ],
   "source": [
    "# Your code here\n",
    "print(len(set1),len(set2),len(set3),len(set4),len(set5))\n",
    "# set3 + set5 = 80\n",
    "#set3 u set5 = set4\n",
    "relationship = len(set3) + len(set5) #- len(set4)\n",
    "print(relationship)"
   ]
  },
  {
   "cell_type": "markdown",
   "metadata": {},
   "source": [
    "#### Create an empty set called `set6`."
   ]
  },
  {
   "cell_type": "code",
   "execution_count": 60,
   "metadata": {},
   "outputs": [
    {
     "name": "stdout",
     "output_type": "stream",
     "text": [
      "set()\n"
     ]
    }
   ],
   "source": [
    "# Your code here\n",
    "set6 = set()\n",
    "print(set6)"
   ]
  },
  {
   "cell_type": "markdown",
   "metadata": {},
   "source": [
    "#### Add `set3` and `set5` to `set6` using the Python Set `update` method."
   ]
  },
  {
   "cell_type": "code",
   "execution_count": 61,
   "metadata": {},
   "outputs": [
    {
     "name": "stdout",
     "output_type": "stream",
     "text": [
      "{0, 2, 3, 4, 6, 7, 8, 9, 10, 11, 12, 13, 14, 15, 17, 18, 19, 20, 22, 23, 26, 27, 29, 30, 31, 32, 33, 34, 36, 37, 38, 39, 40, 41, 42, 44, 45, 46, 47, 49, 50, 51, 52, 53, 54, 55, 56, 57, 58, 59, 62, 63, 64, 65, 66, 67, 68, 69, 70, 71, 72, 74, 75, 76, 80, 82, 83, 84, 85, 86, 87, 88, 90, 91, 92, 94, 95, 96, 97, 98}\n"
     ]
    }
   ],
   "source": [
    "# Your code here\n",
    "set6.update(set3,set5)\n",
    "print(set6)"
   ]
  },
  {
   "cell_type": "markdown",
   "metadata": {},
   "source": [
    "#### Check if `set1` and `set6` are equal."
   ]
  },
  {
   "cell_type": "code",
   "execution_count": 64,
   "metadata": {},
   "outputs": [
    {
     "data": {
      "text/plain": [
       "True"
      ]
     },
     "execution_count": 64,
     "metadata": {},
     "output_type": "execute_result"
    }
   ],
   "source": [
    "# Your code here\n",
    "set1 == set6\n",
    "# Conditions give answer with no \n",
    "\n"
   ]
  },
  {
   "cell_type": "markdown",
   "metadata": {},
   "source": [
    "#### Check if `set1` contains `set2` using the Python Set `issubset` method. Then check if `set1` contains `set3`.*"
   ]
  },
  {
   "cell_type": "code",
   "execution_count": 67,
   "metadata": {},
   "outputs": [
    {
     "name": "stdout",
     "output_type": "stream",
     "text": [
      "False True\n"
     ]
    }
   ],
   "source": [
    "# Your code here\n",
    "print(set1.issubset(set2), set1.issubset(set3))"
   ]
  },
  {
   "cell_type": "markdown",
   "metadata": {},
   "source": [
    "#### Using the Python Set `union` method, aggregate `set3`, `set4`, and `set5`. Then aggregate `set1` and `set2`. \n",
    "\n",
    "#### Check if the aggregated values are equal."
   ]
  },
  {
   "cell_type": "code",
   "execution_count": 70,
   "metadata": {},
   "outputs": [
    {
     "data": {
      "text/plain": [
       "True"
      ]
     },
     "execution_count": 70,
     "metadata": {},
     "output_type": "execute_result"
    }
   ],
   "source": [
    "# Your code here\n",
    "set.union(set3, set4, set5) == set.union(set1,set2)"
   ]
  },
  {
   "cell_type": "markdown",
   "metadata": {},
   "source": [
    "#### Using the `pop` method, remove the first element from `set1`."
   ]
  },
  {
   "cell_type": "code",
   "execution_count": 72,
   "metadata": {},
   "outputs": [
    {
     "name": "stdout",
     "output_type": "stream",
     "text": [
      "{0, 2, 3, 4, 6, 7, 8, 9, 10, 11, 12, 13, 14, 15, 17, 18, 19, 20, 22, 23, 26, 27, 29, 30, 31, 32, 33, 34, 36, 37, 38, 39, 40, 41, 42, 44, 45, 46, 47, 49, 50, 51, 52, 53, 54, 55, 56, 57, 58, 59, 62, 63, 64, 65, 66, 67, 68, 69, 70, 71, 72, 74, 75, 76, 80, 82, 83, 84, 85, 86, 87, 88, 90, 91, 92, 94, 95, 96, 97, 98}\n",
      "{2, 3, 4, 6, 7, 8, 9, 10, 11, 12, 13, 14, 15, 17, 18, 19, 20, 22, 23, 26, 27, 29, 30, 31, 32, 33, 34, 36, 37, 38, 39, 40, 41, 42, 44, 45, 46, 47, 49, 50, 51, 52, 53, 54, 55, 56, 57, 58, 59, 62, 63, 64, 65, 66, 67, 68, 69, 70, 71, 72, 74, 75, 76, 80, 82, 83, 84, 85, 86, 87, 88, 90, 91, 92, 94, 95, 96, 97, 98}\n"
     ]
    }
   ],
   "source": [
    "# Your code here\n",
    "set1 = set(sample_list_1)\n",
    "print(set1)\n",
    "set1.pop()\n",
    "print(set1)"
   ]
  },
  {
   "cell_type": "markdown",
   "metadata": {},
   "source": [
    "#### Remove every element in the following list from `set1` if they are present in the set. Print the remaining elements.\n",
    "\n",
    "```\n",
    "list_to_remove = [1, 9, 11, 19, 21, 29, 31, 39, 41, 49, 51, 59, 61, 69, 71, 79, 81, 89, 91, 99]\n",
    "```"
   ]
  },
  {
   "cell_type": "code",
   "execution_count": 83,
   "metadata": {},
   "outputs": [
    {
     "name": "stdout",
     "output_type": "stream",
     "text": [
      "{2, 3, 4, 6, 7, 8, 10, 12, 13, 14, 15, 17, 18, 20, 22, 23, 26, 27, 30, 32, 33, 34, 36, 37, 38, 40, 42, 44, 45, 46, 47, 50, 52, 53, 54, 55, 56, 57, 58, 62, 63, 64, 65, 66, 67, 68, 70, 72, 74, 75, 76, 80, 82, 83, 84, 85, 86, 87, 88, 90, 92, 94, 95, 96, 97, 98}\n"
     ]
    }
   ],
   "source": [
    "# Your code here\n",
    "list_to_remove = [1, 9, 11, 19, 21, 29, 31, 39, 41, 49, 51, 59, 61, 69, 71, 79, 81, 89, 91, 99]\n",
    "set8 = set(list_to_remove)\n",
    "set9 = set1 - set8\n",
    "print(set9)\n"
   ]
  },
  {
   "cell_type": "code",
   "execution_count": null,
   "metadata": {},
   "outputs": [],
   "source": []
  }
 ],
 "metadata": {
  "kernelspec": {
   "display_name": "Python 3",
   "language": "python",
   "name": "python3"
  },
  "language_info": {
   "codemirror_mode": {
    "name": "ipython",
    "version": 3
   },
   "file_extension": ".py",
   "mimetype": "text/x-python",
   "name": "python",
   "nbconvert_exporter": "python",
   "pygments_lexer": "ipython3",
   "version": "3.7.4"
  }
 },
 "nbformat": 4,
 "nbformat_minor": 2
}
